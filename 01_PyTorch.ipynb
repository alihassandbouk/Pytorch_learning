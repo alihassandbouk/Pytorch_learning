{
 "cells": [
  {
   "cell_type": "code",
   "execution_count": 1,
   "metadata": {},
   "outputs": [],
   "source": [
    "import torch\n"
   ]
  },
  {
   "cell_type": "markdown",
   "metadata": {},
   "source": [
    "# PyTorch workflow\n",
    "\n",
    "lest's explore an example PyTorch end-to-end workflow\n",
    "\n"
   ]
  },
  {
   "cell_type": "code",
   "execution_count": 2,
   "metadata": {},
   "outputs": [
    {
     "data": {
      "text/plain": [
       "'2.1.2'"
      ]
     },
     "execution_count": 2,
     "metadata": {},
     "output_type": "execute_result"
    }
   ],
   "source": [
    "from torch import nn # nn contains all of PyTroch's building blocks for nueral networks\n",
    "import matplotlib.pyplot as plt \n",
    "\n",
    "# Check for version\n",
    "torch.__version__"
   ]
  },
  {
   "cell_type": "markdown",
   "metadata": {},
   "source": [
    "## Data (preparing and learning)\n",
    "\n",
    "Data can be almost anything.... in machine learning\n",
    "\n",
    "* Excel \n",
    "* Vedio\n",
    "* DNA\n",
    "* etc...\n",
    "\n",
    "Machine learning is a game of two parts:\n",
    "1. Get data inro a numerical form \n",
    "2. build a model "
   ]
  },
  {
   "cell_type": "code",
   "execution_count": 3,
   "metadata": {},
   "outputs": [],
   "source": [
    "# Create *known* paramaters\n",
    "\n",
    "weight = 0.7\n",
    "bias = 0.3\n",
    "\n",
    "# Create \n",
    "start = 0 \n",
    "end = 1\n",
    "step = 0.02\n",
    "X = torch.arange(start,end,step=step).unsqueeze(dim=1)\n",
    "y = weight * X + bias"
   ]
  },
  {
   "cell_type": "markdown",
   "metadata": {},
   "source": [
    "### spliting data into training and test sets \n",
    "\n",
    "let's create a train and test sets for our data"
   ]
  },
  {
   "cell_type": "code",
   "execution_count": 4,
   "metadata": {},
   "outputs": [],
   "source": [
    "# Create a train_test_split\n",
    "\n",
    "train_split = int(0.8 * len(X))\n",
    "\n",
    "X_train, y_train = X[:train_split] , y[:train_split]\n",
    "X_test, y_test = X[train_split:] , y[train_split:]"
   ]
  },
  {
   "cell_type": "markdown",
   "metadata": {},
   "source": [
    "## How  might we better visualize our data?\n",
    "\n",
    "\"Visualize, visualize, visualize\"\n",
    "\n"
   ]
  },
  {
   "cell_type": "code",
   "execution_count": 5,
   "metadata": {},
   "outputs": [],
   "source": [
    "def plot_predictions(train_data = X_train,\n",
    "                     train_labels = y_train,\n",
    "                     test_data = X_test,\n",
    "                     test_labels = y_test,\n",
    "                     predictions = None):\n",
    "    \n",
    "    plt.figure(figsize=((10,7)))\n",
    "\n",
    "    # Plot the training data in blue\n",
    "    plt.scatter(train_data,train_labels,c=\"b\" , s=  4, label = \"Training data\")\n",
    "\n",
    "    # Plot the test data in green \n",
    "    plt.scatter(test_data,test_labels,c=\"g\",s=4, label = \"Testing data\")\n",
    "\n",
    "    # Are there predictions :\n",
    "    if predictions is not None:\n",
    "        # plot the predictions if they exist\n",
    "        plt.scatter(test_data, predictions, c = \"r\", s=4, label = \"Predictions\")\n",
    "\n",
    "    # Show the legend\n",
    "    plt.legend(prop = {\"size\" : 14})\n",
    "    plt.show()"
   ]
  },
  {
   "cell_type": "code",
   "execution_count": 6,
   "metadata": {},
   "outputs": [
    {
     "data": {
      "image/png": "[encoded data removed]",
      "text/plain": [
       "<Figure size 1000x700 with 1 Axes>"
      ]
     },
     "metadata": {},
     "output_type": "display_data"
    }
   ],
   "source": [
    "plot_predictions()"
   ]
  },
  {
   "cell_type": "markdown",
   "metadata": {},
   "source": [
    "## Build Model"
   ]
  },
  {
   "cell_type": "code",
   "execution_count": 7,
   "metadata": {},
   "outputs": [],
   "source": [
    "# Create linear regression model class\n",
    "\n",
    "class LinearRegressionModel(nn.Module):\n",
    "    def __init__(self):\n",
    "        super().__init__()\n",
    "        self.weights = nn.Parameter(torch.randn(1,\n",
    "                                                requires_grad= True,\n",
    "                                                dtype = torch.float))\n",
    "        self.bias = nn.Parameter(torch.randn(1,\n",
    "                                                requires_grad= True,\n",
    "                                                dtype = torch.float))\n",
    "    # Forward method to define the computation in the model\n",
    "    def forward(self,X : torch.Tensor) -> torch.Tensor:\n",
    "        return self.weights * X + self.bias\n",
    "\n",
    "        \n"
   ]
  },
  {
   "cell_type": "markdown",
   "metadata": {},
   "source": [
    "### PyTorch model building essentials\n",
    "\n",
    "* torch.nn includes all of the buildings for computational graphs\n",
    "* torch.nn.Parameter - what parameters should our model try and learn, often a PyTorch layer from torch.nn will set these for us\n",
    "* torch.nn.Module - The base class for all neural network modules \n",
    "* torch.optim - this is where the optimizers live in pytorch\n",
    "* def forward() - All nn.Module subclasses require you to overwrite forward() method "
   ]
  },
  {
   "cell_type": "markdown",
   "metadata": {},
   "source": [
    "### Checking the contents of our PyTorch mdoel\n",
    "\n",
    "we cancheck ou model parameters or what is inside our model using .parameters()"
   ]
  },
  {
   "cell_type": "code",
   "execution_count": 40,
   "metadata": {},
   "outputs": [
    {
     "data": {
      "text/plain": [
       "[Parameter containing:\n",
       " tensor([0.3367], requires_grad=True),\n",
       " Parameter containing:\n",
       " tensor([0.1288], requires_grad=True)]"
      ]
     },
     "execution_count": 40,
     "metadata": {},
     "output_type": "execute_result"
    }
   ],
   "source": [
    "# Create a rondom seed\n",
    "\n",
    "torch.manual_seed(42)\n",
    "\n",
    "model_0 = LinearRegressionModel()\n",
    "\n",
    "# Check out the parameters \n",
    "list(model_0.parameters())"
   ]
  },
  {
   "cell_type": "code",
   "execution_count": 9,
   "metadata": {},
   "outputs": [
    {
     "data": {
      "text/plain": [
       "OrderedDict([('weights', tensor([0.3367])), ('bias', tensor([0.1288]))])"
      ]
     },
     "execution_count": 9,
     "metadata": {},
     "output_type": "execute_result"
    }
   ],
   "source": [
    "# list named parameters\n",
    "model_0.state_dict()"
   ]
  },
  {
   "cell_type": "markdown",
   "metadata": {},
   "source": [
    "### Making prediction using `torch.inference_mdoe()`\n",
    "\n",
    "To check our model's prdictive power, lets see how yell it predicts `y_test` based on `x_test`\n",
    "when we pass dara through our model, it's going to run it through forward() method"
   ]
  },
  {
   "cell_type": "code",
   "execution_count": 19,
   "metadata": {},
   "outputs": [
    {
     "data": {
      "text/plain": [
       "tensor([[0.3982],\n",
       "        [0.4049],\n",
       "        [0.4116],\n",
       "        [0.4184],\n",
       "        [0.4251],\n",
       "        [0.4318],\n",
       "        [0.4386],\n",
       "        [0.4453],\n",
       "        [0.4520],\n",
       "        [0.4588]])"
      ]
     },
     "execution_count": 19,
     "metadata": {},
     "output_type": "execute_result"
    }
   ],
   "source": [
    "# Make predictions with model\n",
    "with torch.inference_mode():\n",
    "    y_preds = model_0(X_test)\n",
    "\n",
    "y_preds"
   ]
  },
  {
   "cell_type": "code",
   "execution_count": 11,
   "metadata": {},
   "outputs": [
    {
     "data": {
      "text/plain": [
       "tensor([[0.8600],\n",
       "        [0.8740],\n",
       "        [0.8880],\n",
       "        [0.9020],\n",
       "        [0.9160],\n",
       "        [0.9300],\n",
       "        [0.9440],\n",
       "        [0.9580],\n",
       "        [0.9720],\n",
       "        [0.9860]])"
      ]
     },
     "execution_count": 11,
     "metadata": {},
     "output_type": "execute_result"
    }
   ],
   "source": [
    "y_test"
   ]
  },
  {
   "cell_type": "code",
   "execution_count": 12,
   "metadata": {},
   "outputs": [
    {
     "data": {
      "image/png": "[encoded data removed]",
      "text/plain": [
       "<Figure size 1000x700 with 1 Axes>"
      ]
     },
     "metadata": {},
     "output_type": "display_data"
    }
   ],
   "source": [
    "plot_predictions(predictions=y_preds)"
   ]
  },
  {
   "cell_type": "markdown",
   "metadata": {},
   "source": [
    "## 3. Train the model \n",
    "\n",
    "the whole ideo of training of a model is to move from some unknown parameters to the desired parameters\n",
    "\n",
    "one way to measure how poor or how wrong the model predictions are is to use a loss function/cost function/criterion "
   ]
  },
  {
   "cell_type": "code",
   "execution_count": 41,
   "metadata": {},
   "outputs": [],
   "source": [
    "# set up a loss function\n",
    "\n",
    "loss_fn = nn.L1Loss()\n",
    "\n",
    "# setup an optimizer ( stoichastic gradient descent)\n",
    "optimizer = torch.optim.SGD(params=model_0.parameters(),\n",
    "                            lr=0.02,)"
   ]
  },
  {
   "cell_type": "markdown",
   "metadata": {},
   "source": [
    "### Building a training loop in PyTorch\n",
    "\n",
    "A couple of things we need in a training loop:\n",
    "\n",
    "0. loop throught the data\n",
    "1. forward pass/ forward propagation( this invlolves data moving through our model functions) to make prdictions\n",
    "2. Calculate the loss\n",
    "3. Optimizer zero grad\n",
    "4. loss backword - move backward through the nerwork to calculate the gradients of each of the parameters of our model with respect to the loss (**backpropagation**) \n",
    "5. Optimizer step - uses the optimizer to adjust our model's parameters to try and improve th loss( gradient descent)"
   ]
  },
  {
   "cell_type": "code",
   "execution_count": 42,
   "metadata": {},
   "outputs": [
    {
     "name": "stdout",
     "output_type": "stream",
     "text": [
      "loss: 0.31288138031959534\n",
      "Epoch: 0 | Loss: 0.4675941467285156\n",
      "OrderedDict([('weights', tensor([0.3445])), ('bias', tensor([0.1488]))])\n",
      "loss: 0.28983935713768005\n",
      "loss: 0.26679736375808716\n",
      "loss: 0.24375534057617188\n",
      "loss: 0.22071333229541779\n",
      "loss: 0.1976713389158249\n",
      "loss: 0.1746293604373932\n",
      "loss: 0.1515873372554779\n",
      "loss: 0.12854532897472382\n",
      "loss: 0.10609114170074463\n",
      "loss: 0.08831816911697388\n",
      "Epoch: 10 | Loss: 0.20536987483501434\n",
      "OrderedDict([('weights', tensor([0.4223])), ('bias', tensor([0.3418]))])\n",
      "loss: 0.07545244693756104\n",
      "loss: 0.06641419231891632\n",
      "loss: 0.05990664288401604\n",
      "loss: 0.055704690515995026\n",
      "loss: 0.05250788480043411\n",
      "loss: 0.050354838371276855\n",
      "loss: 0.048709869384765625\n",
      "loss: 0.047426268458366394\n",
      "loss: 0.04641704633831978\n",
      "loss: 0.04547790437936783\n",
      "Epoch: 20 | Loss: 0.11100725829601288\n",
      "OrderedDict([('weights', tensor([0.4766])), ('bias', tensor([0.3878]))])\n",
      "loss: 0.044677894562482834\n",
      "loss: 0.043880581855773926\n",
      "loss: 0.043182581663131714\n",
      "loss: 0.042484574019908905\n",
      "loss: 0.04178657755255699\n",
      "loss: 0.04108858108520508\n",
      "loss: 0.04039057716727257\n",
      "loss: 0.039692580699920654\n",
      "loss: 0.03899458423256874\n",
      "loss: 0.03829658776521683\n",
      "Epoch: 30 | Loss: 0.08761118352413177\n",
      "OrderedDict([('weights', tensor([0.5130])), ('bias', tensor([0.3788]))])\n",
      "loss: 0.03761227801442146\n",
      "loss: 0.03692617639899254\n",
      "loss: 0.036234255880117416\n",
      "loss: 0.035555772483348846\n",
      "loss: 0.034857772290706635\n",
      "loss: 0.03418382629752159\n",
      "loss: 0.03348736837506294\n",
      "loss: 0.03280580788850784\n",
      "loss: 0.03211696073412895\n",
      "loss: 0.031427789479494095\n",
      "Epoch: 40 | Loss: 0.072440005838871\n",
      "OrderedDict([('weights', tensor([0.5469])), ('bias', tensor([0.3638]))])\n",
      "loss: 0.03074656054377556\n",
      "loss: 0.03004975989460945\n",
      "loss: 0.029376158490777016\n",
      "loss: 0.028678154572844505\n",
      "loss: 0.027999337762594223\n",
      "loss: 0.027307748794555664\n",
      "loss: 0.026621315628290176\n",
      "loss: 0.025937344878911972\n",
      "loss: 0.02524329349398613\n",
      "loss: 0.02456694096326828\n",
      "Epoch: 50 | Loss: 0.055895041674375534\n",
      "OrderedDict([('weights', tensor([0.5812])), ('bias', tensor([0.3498]))])\n",
      "loss: 0.023868950083851814\n",
      "loss: 0.0231928713619709\n",
      "loss: 0.022498536854982376\n",
      "loss: 0.021814849227666855\n",
      "loss: 0.021128132939338684\n",
      "loss: 0.020436814054846764\n",
      "loss: 0.019757729023694992\n",
      "loss: 0.01905972510576248\n",
      "loss: 0.018386399373412132\n",
      "loss: 0.017689326778054237\n",
      "Epoch: 60 | Loss: 0.03935007005929947\n",
      "OrderedDict([('weights', tensor([0.6156])), ('bias', tensor([0.3358]))])\n",
      "loss: 0.017008377239108086\n",
      "loss: 0.016318919137120247\n",
      "loss: 0.01563035324215889\n",
      "loss: 0.014948507770895958\n",
      "loss: 0.014252329245209694\n",
      "loss: 0.013578107580542564\n",
      "loss: 0.012880111113190651\n",
      "loss: 0.012201908975839615\n",
      "loss: 0.01150970533490181\n",
      "loss: 0.010823884978890419\n",
      "Epoch: 70 | Loss: 0.024178892374038696\n",
      "OrderedDict([('weights', tensor([0.6495])), ('bias', tensor([0.3208]))])\n",
      "loss: 0.010139302350580692\n",
      "loss: 0.009445857256650925\n",
      "loss: 0.008768897503614426\n",
      "loss: 0.008070896379649639\n",
      "loss: 0.0073954337276518345\n",
      "loss: 0.006700495723634958\n",
      "loss: 0.00601741299033165\n",
      "loss: 0.005330088548362255\n",
      "loss: 0.004639388062059879\n",
      "loss: 0.003965773619711399\n",
      "Epoch: 80 | Loss: 0.006277936510741711\n",
      "OrderedDict([('weights', tensor([0.6842])), ('bias', tensor([0.3078]))])\n",
      "loss: 0.00337703013792634\n",
      "loss: 0.003435282502323389\n",
      "loss: 0.008951482363045216\n",
      "loss: 0.01409052312374115\n",
      "loss: 0.008951482363045216\n",
      "loss: 0.01409052312374115\n",
      "loss: 0.008951482363045216\n",
      "loss: 0.01409052312374115\n",
      "loss: 0.008951482363045216\n",
      "loss: 0.01409052312374115\n",
      "Epoch: 90 | Loss: 0.005287045147269964\n",
      "OrderedDict([('weights', tensor([0.6927])), ('bias', tensor([0.3118]))])\n",
      "loss: 0.008951482363045216\n",
      "loss: 0.01409052312374115\n",
      "loss: 0.008951482363045216\n",
      "loss: 0.01409052312374115\n",
      "loss: 0.008951482363045216\n",
      "loss: 0.01409052312374115\n",
      "loss: 0.008951482363045216\n",
      "loss: 0.01409052312374115\n",
      "loss: 0.008951482363045216\n",
      "loss: 0.01409052312374115\n",
      "Epoch: 100 | Loss: 0.005287045147269964\n",
      "OrderedDict([('weights', tensor([0.6927])), ('bias', tensor([0.3118]))])\n",
      "loss: 0.008951482363045216\n",
      "loss: 0.01409052312374115\n",
      "loss: 0.008951482363045216\n",
      "loss: 0.01409052312374115\n",
      "loss: 0.008951482363045216\n",
      "loss: 0.01409052312374115\n",
      "loss: 0.008951482363045216\n",
      "loss: 0.01409052312374115\n",
      "loss: 0.008951482363045216\n",
      "loss: 0.01409052312374115\n",
      "Epoch: 110 | Loss: 0.005287045147269964\n",
      "OrderedDict([('weights', tensor([0.6927])), ('bias', tensor([0.3118]))])\n",
      "loss: 0.008951482363045216\n",
      "loss: 0.01409052312374115\n",
      "loss: 0.008951482363045216\n",
      "loss: 0.01409052312374115\n",
      "loss: 0.008951482363045216\n",
      "loss: 0.01409052312374115\n",
      "loss: 0.008951482363045216\n",
      "loss: 0.01409052312374115\n",
      "loss: 0.008951482363045216\n",
      "loss: 0.01409052312374115\n",
      "Epoch: 120 | Loss: 0.005287045147269964\n",
      "OrderedDict([('weights', tensor([0.6927])), ('bias', tensor([0.3118]))])\n",
      "loss: 0.008951482363045216\n",
      "loss: 0.01409052312374115\n",
      "loss: 0.008951482363045216\n",
      "loss: 0.01409052312374115\n",
      "loss: 0.008951482363045216\n",
      "loss: 0.01409052312374115\n",
      "loss: 0.008951482363045216\n",
      "loss: 0.01409052312374115\n",
      "loss: 0.008951482363045216\n",
      "loss: 0.01409052312374115\n",
      "Epoch: 130 | Loss: 0.005287045147269964\n",
      "OrderedDict([('weights', tensor([0.6927])), ('bias', tensor([0.3118]))])\n",
      "loss: 0.008951482363045216\n",
      "loss: 0.01409052312374115\n",
      "loss: 0.008951482363045216\n",
      "loss: 0.01409052312374115\n",
      "loss: 0.008951482363045216\n",
      "loss: 0.01409052312374115\n",
      "loss: 0.008951482363045216\n",
      "loss: 0.01409052312374115\n",
      "loss: 0.008951482363045216\n",
      "loss: 0.01409052312374115\n",
      "Epoch: 140 | Loss: 0.005287045147269964\n",
      "OrderedDict([('weights', tensor([0.6927])), ('bias', tensor([0.3118]))])\n",
      "loss: 0.008951482363045216\n",
      "loss: 0.01409052312374115\n",
      "loss: 0.008951482363045216\n",
      "loss: 0.01409052312374115\n",
      "loss: 0.008951482363045216\n",
      "loss: 0.01409052312374115\n",
      "loss: 0.008951482363045216\n",
      "loss: 0.01409052312374115\n",
      "loss: 0.008951482363045216\n",
      "loss: 0.01409052312374115\n",
      "Epoch: 150 | Loss: 0.005287045147269964\n",
      "OrderedDict([('weights', tensor([0.6927])), ('bias', tensor([0.3118]))])\n",
      "loss: 0.008951482363045216\n",
      "loss: 0.01409052312374115\n",
      "loss: 0.008951482363045216\n",
      "loss: 0.01409052312374115\n",
      "loss: 0.008951482363045216\n",
      "loss: 0.01409052312374115\n",
      "loss: 0.008951482363045216\n",
      "loss: 0.01409052312374115\n",
      "loss: 0.008951482363045216\n",
      "loss: 0.01409052312374115\n",
      "Epoch: 160 | Loss: 0.005287045147269964\n",
      "OrderedDict([('weights', tensor([0.6927])), ('bias', tensor([0.3118]))])\n",
      "loss: 0.008951482363045216\n",
      "loss: 0.01409052312374115\n",
      "loss: 0.008951482363045216\n",
      "loss: 0.01409052312374115\n",
      "loss: 0.008951482363045216\n",
      "loss: 0.01409052312374115\n",
      "loss: 0.008951482363045216\n",
      "loss: 0.01409052312374115\n",
      "loss: 0.008951482363045216\n",
      "loss: 0.01409052312374115\n",
      "Epoch: 170 | Loss: 0.005287045147269964\n",
      "OrderedDict([('weights', tensor([0.6927])), ('bias', tensor([0.3118]))])\n",
      "loss: 0.008951482363045216\n",
      "loss: 0.01409052312374115\n",
      "loss: 0.008951482363045216\n",
      "loss: 0.01409052312374115\n",
      "loss: 0.008951482363045216\n",
      "loss: 0.01409052312374115\n",
      "loss: 0.008951482363045216\n",
      "loss: 0.01409052312374115\n",
      "loss: 0.008951482363045216\n",
      "loss: 0.01409052312374115\n",
      "Epoch: 180 | Loss: 0.005287045147269964\n",
      "OrderedDict([('weights', tensor([0.6927])), ('bias', tensor([0.3118]))])\n",
      "loss: 0.008951482363045216\n",
      "loss: 0.01409052312374115\n",
      "loss: 0.008951482363045216\n",
      "loss: 0.01409052312374115\n",
      "loss: 0.008951482363045216\n",
      "loss: 0.01409052312374115\n",
      "loss: 0.008951482363045216\n",
      "loss: 0.01409052312374115\n",
      "loss: 0.008951482363045216\n",
      "loss: 0.01409052312374115\n",
      "Epoch: 190 | Loss: 0.005287045147269964\n",
      "OrderedDict([('weights', tensor([0.6927])), ('bias', tensor([0.3118]))])\n",
      "loss: 0.008951482363045216\n",
      "loss: 0.01409052312374115\n",
      "loss: 0.008951482363045216\n",
      "loss: 0.01409052312374115\n",
      "loss: 0.008951482363045216\n",
      "loss: 0.01409052312374115\n",
      "loss: 0.008951482363045216\n",
      "loss: 0.01409052312374115\n",
      "loss: 0.008951482363045216\n"
     ]
    }
   ],
   "source": [
    "# An epoch is one loop throught the data ... (this is a hyperparameter becuase we've set it manually)\n",
    "epochs = 200\n",
    "\n",
    "# Track different values\n",
    "epoch_count = []\n",
    "loss_values = []\n",
    "test_loss_values = []\n",
    "\n",
    "\n",
    "# 0. Loop through the data\n",
    "for epoch in range(epochs):\n",
    "    epoch_count.append(epoch)\n",
    "    # set the model to trainning mode ( sets all parameters that require gradient to require gradients)\n",
    "    model_0.train()\n",
    "    # 1. Forward pass\n",
    "    y_preds = model_0(X_train)\n",
    "\n",
    "    # 2. calculate the loss\n",
    "    loss = loss_fn(y_preds,y_train)\n",
    "    loss_values.append(loss)\n",
    "    print(f\"loss: {loss}\")\n",
    "\n",
    "    # 3. optimizer zero grad\n",
    "    optimizer.zero_grad()\n",
    "\n",
    "    # 4. Perform backpropagation on ths loss with respect to the parameters of the model\n",
    "    loss.backward()\n",
    "\n",
    "    # 5. step the optimizer \n",
    "    optimizer.step()\n",
    "\n",
    "    ### Testing\n",
    "    model_0.eval() # turns off different settings in the  model not needed for wvaluation/testing (dropout/ batchnorm)\n",
    "    with torch.inference_mode(): # this turns off gradient tracking and other things \n",
    "        # 1.  Do the forward pass\n",
    "        test_pred = model_0(X_test)\n",
    "        # 2. Calculate ther loss\n",
    "        test_loss = loss_fn(test_pred,y_test)\n",
    "        test_loss_values.append(test_loss)\n",
    "        if epoch % 10 ==0 :\n",
    "            print(f\"Epoch: {epoch} | Loss: {test_loss}\" )\n",
    "            #print the state of the model \n",
    "            print(model_0.state_dict())\n",
    "     \n",
    "\n"
   ]
  },
  {
   "cell_type": "code",
   "execution_count": 37,
   "metadata": {},
   "outputs": [],
   "source": [
    "# turn values to numpy\n",
    "\n",
    "import numpy as np"
   ]
  },
  {
   "cell_type": "code",
   "execution_count": 43,
   "metadata": {},
   "outputs": [
    {
     "data": {
      "image/png": "[encoded data removed]",
      "text/plain": [
       "<Figure size 640x480 with 1 Axes>"
      ]
     },
     "metadata": {},
     "output_type": "display_data"
    }
   ],
   "source": [
    "# plot the loss values\n",
    "\n",
    "plt.plot(epoch_count,torch.tensor(loss_values).numpy(),label= \"Train loss\")\n",
    "plt.plot(epoch_count, torch.tensor(test_loss_values).numpy() , label = \"Test loss\")\n",
    "plt.title(\"traing and test loss curves\")\n",
    "plt.ylabel(\"Loss\")\n",
    "plt.xlabel(\"Epoches\")\n",
    "plt.legend()\n",
    "plt.show()"
   ]
  },
  {
   "cell_type": "code",
   "execution_count": 44,
   "metadata": {},
   "outputs": [],
   "source": [
    "with torch.inference_mode():\n",
    "    y_preds = model_0(X_test)\n",
    "    "
   ]
  },
  {
   "cell_type": "code",
   "execution_count": 46,
   "metadata": {},
   "outputs": [
    {
     "data": {
      "image/png": "[encoded data removed]",
      "text/plain": [
       "<Figure size 1000x700 with 1 Axes>"
      ]
     },
     "metadata": {},
     "output_type": "display_data"
    }
   ],
   "source": [
    "plot_predictions(predictions=y_preds)"
   ]
  },
  {
   "cell_type": "markdown",
   "metadata": {},
   "source": [
    "## saving a model in Pytorch\n",
    "\n",
    "There are three main methods you should know about :\n",
    "1. `torch.save()`- allows you save a Pytorch object in pickle format\n",
    "2. `torch.load()` -allows you to load a saved PyTorch objject\n",
    "3. `torch.nn.Module.load_state_dict()` - allows to load a models saved dictionary"
   ]
  },
  {
   "cell_type": "code",
   "execution_count": 49,
   "metadata": {},
   "outputs": [
    {
     "name": "stdout",
     "output_type": "stream",
     "text": [
      "Saving model to: models\\01_pytorch_model_0.pth\n"
     ]
    }
   ],
   "source": [
    "# Savinf our PyTorch model \n",
    "from pathlib import Path\n",
    "\n",
    "# 1. Create models directory\n",
    "MODEL_PATH = Path(\"models\")\n",
    "MODEL_PATH.mkdir(parents=True, exist_ok=True)\n",
    "\n",
    "# 2. Create model dave path\n",
    "MODEL_NAME = \"01_pytorch_model_0.pth\"\n",
    "MODEL_SAVE_PATH = MODEL_PATH / MODEL_NAME\n",
    "\n",
    "# save the model state dict\n",
    "print(f\"Saving model to: {MODEL_SAVE_PATH}\")\n",
    "torch.save(obj=model_0.state_dict(),f=MODEL_SAVE_PATH)"
   ]
  },
  {
   "cell_type": "markdown",
   "metadata": {},
   "source": [
    "### loading Pytorch model"
   ]
  },
  {
   "cell_type": "markdown",
   "metadata": {},
   "source": []
  },
  {
   "cell_type": "code",
   "execution_count": 50,
   "metadata": {},
   "outputs": [
    {
     "data": {
      "text/plain": [
       "OrderedDict([('weights', tensor([0.2345])), ('bias', tensor([0.2303]))])"
      ]
     },
     "execution_count": 50,
     "metadata": {},
     "output_type": "execute_result"
    }
   ],
   "source": [
    "loaded_model_0 = LinearRegressionModel()\n",
    "\n",
    "loaded_model_0.state_dict()"
   ]
  },
  {
   "cell_type": "code",
   "execution_count": 51,
   "metadata": {},
   "outputs": [
    {
     "data": {
      "text/plain": [
       "<All keys matched successfully>"
      ]
     },
     "execution_count": 51,
     "metadata": {},
     "output_type": "execute_result"
    }
   ],
   "source": [
    "loaded_model_0.load_state_dict(torch.load(f=MODEL_SAVE_PATH))"
   ]
  },
  {
   "cell_type": "code",
   "execution_count": 52,
   "metadata": {},
   "outputs": [
    {
     "data": {
      "text/plain": [
       "OrderedDict([('weights', tensor([0.6849])), ('bias', tensor([0.2918]))])"
      ]
     },
     "execution_count": 52,
     "metadata": {},
     "output_type": "execute_result"
    }
   ],
   "source": [
    "loaded_model_0.state_dict()"
   ]
  },
  {
   "cell_type": "code",
   "execution_count": null,
   "metadata": {},
   "outputs": [],
   "source": []
  },
  {
   "cell_type": "code",
   "execution_count": null,
   "metadata": {},
   "outputs": [],
   "source": []
  },
  {
   "cell_type": "code",
   "execution_count": null,
   "metadata": {},
   "outputs": [],
   "source": []
  },
  {
   "cell_type": "code",
   "execution_count": null,
   "metadata": {},
   "outputs": [],
   "source": []
  },
  {
   "cell_type": "code",
   "execution_count": null,
   "metadata": {},
   "outputs": [],
   "source": []
  },
  {
   "cell_type": "code",
   "execution_count": null,
   "metadata": {},
   "outputs": [],
   "source": []
  },
  {
   "cell_type": "code",
   "execution_count": null,
   "metadata": {},
   "outputs": [],
   "source": []
  },
  {
   "cell_type": "code",
   "execution_count": null,
   "metadata": {},
   "outputs": [],
   "source": []
  },
  {
   "cell_type": "code",
   "execution_count": null,
   "metadata": {},
   "outputs": [],
   "source": []
  },
  {
   "cell_type": "code",
   "execution_count": null,
   "metadata": {},
   "outputs": [],
   "source": []
  }
 ],
 "metadata": {
  "kernelspec": {
   "display_name": "Python 3",
   "language": "python",
   "name": "python3"
  },
  "language_info": {
   "codemirror_mode": {
    "name": "ipython",
    "version": 3
   },
   "file_extension": ".py",
   "mimetype": "text/x-python",
   "name": "python",
   "nbconvert_exporter": "python",
   "pygments_lexer": "ipython3",
   "version": "3.11.5"
  }
 },
 "nbformat": 4,
 "nbformat_minor": 2
}
